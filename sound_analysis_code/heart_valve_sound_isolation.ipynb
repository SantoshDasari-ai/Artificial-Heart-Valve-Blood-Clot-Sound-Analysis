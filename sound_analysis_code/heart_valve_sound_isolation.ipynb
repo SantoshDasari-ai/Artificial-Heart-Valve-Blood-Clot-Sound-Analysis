{
 "cells": [
  {
   "cell_type": "markdown",
   "metadata": {},
   "source": [
    "# Heart Valve Sound Isolation and Noise Reduction\n",
    "\n",
    "In this notebook, we will process an audio file to isolate clicking sounds and reduce background noise. The steps include applying a high-pass filter, detecting transient clicks, and performing noise reduction using spectral gating.\n",
    "\n",
    "---\n",
    "\n",
    "## Step 1: Import Required Libraries\n",
    "\n",
    "In this step, we import the necessary libraries: `librosa` for audio processing, `scipy` for filtering, `soundfile` for saving the audio, and `matplotlib` for visualization.\n"
   ]
  },
  {
   "cell_type": "code",
   "execution_count": 1,
   "metadata": {},
   "outputs": [],
   "source": [
    "# Step 1: Import Required Libraries\n",
    "import numpy as np\n",
    "import librosa\n",
    "import librosa.display\n",
    "import scipy.signal\n",
    "import soundfile as sf\n",
    "import matplotlib.pyplot as plt"
   ]
  },
  {
   "cell_type": "markdown",
   "metadata": {},
   "source": [
    "## Step 2: Load the Audio File\n",
    "\n",
    "We use `librosa.load` to load the audio file and get the audio time series and sample rate."
   ]
  },
  {
   "cell_type": "code",
   "execution_count": null,
   "metadata": {},
   "outputs": [],
   "source": [
    "# Step 2: Load the Audio File\n",
    "file_path = 'Outside Test 1.wav'  # Specify the path to your audio file\n",
    "output_audio_path = '/desired/path/cleaned_output.wav' # Specify the path for the cleaned output\n",
    "audio_data, sample_rate = librosa.load(file_path, sr=None)\n",
    "\n",
    "# Display basic information about the audio\n",
    "print(f\"Sample rate: {sample_rate} Hz\")\n",
    "print(f\"Audio duration: {librosa.get_duration(y=audio_data, sr=sample_rate):.2f} seconds\")\n"
   ]
  },
  {
   "cell_type": "markdown",
   "metadata": {},
   "source": [
    "## Step 3: Apply a High-Pass Filter\n",
    "\n",
    "We apply a high-pass filter to remove low-frequency background noise and isolate the high-frequency clicks.\n"
   ]
  },
  {
   "cell_type": "code",
   "execution_count": null,
   "metadata": {},
   "outputs": [],
   "source": [
    "# Step 3: Apply High-Pass Filter\n",
    "def high_pass_filter(audio_data, sample_rate, cutoff=1000, order=6):\n",
    "    nyquist = 0.5 * sample_rate\n",
    "    normal_cutoff = cutoff / nyquist\n",
    "    sos = scipy.signal.butter(order, normal_cutoff, btype='high', analog=False, output='sos')\n",
    "    filtered_audio = scipy.signal.sosfilt(sos, audio_data)\n",
    "    return filtered_audio\n",
    "\n",
    "# Apply high-pass filter with a cutoff of 1000 Hz\n",
    "filtered_audio = high_pass_filter(audio_data, sample_rate, cutoff=1000)\n",
    "\n",
    "# Plot the original and filtered audio\n",
    "plt.figure(figsize=(14, 5))\n",
    "plt.subplot(2, 1, 1)\n",
    "librosa.display.waveshow(audio_data, sr=sample_rate, alpha=0.5)\n",
    "plt.title('Original Audio')\n",
    "plt.subplot(2, 1, 2)\n",
    "librosa.display.waveshow(filtered_audio, sr=sample_rate, alpha=0.5)\n",
    "plt.title('Filtered Audio (High-Pass)')\n",
    "plt.tight_layout()\n",
    "plt.show()\n"
   ]
  },
  {
   "cell_type": "markdown",
   "metadata": {},
   "source": [
    "## Step 4: Detect Transients (Clicks)\n",
    "\n",
    "We will use **librosa's** trimming function to detect and isolate the loudest parts of the audio, which correspond to clicks.\n"
   ]
  },
  {
   "cell_type": "code",
   "execution_count": null,
   "metadata": {},
   "outputs": [],
   "source": [
    "# Step 4: Detect Transients (Clicks)\n",
    "clicks, _ = librosa.effects.trim(filtered_audio, top_db=30)\n"
   ]
  },
  {
   "cell_type": "markdown",
   "metadata": {},
   "source": [
    "## Step 5: Noise Reduction Using Spectral Gating\n",
    "\n",
    "We reduce background noise using spectral gating. First, we extract a noise sample from the first second of the audio, compute its power spectrum, and subtract it from the audio's spectrum.\n"
   ]
  },
  {
   "cell_type": "code",
   "execution_count": null,
   "metadata": {},
   "outputs": [],
   "source": [
    "# Step 5: Noise Reduction with Spectral Gating\n",
    "# Extract background noise from the first second of the filtered audio\n",
    "noise_sample = filtered_audio[:sample_rate]  # First second as noise sample\n",
    "\n",
    "# Compute the noise power spectrum\n",
    "noise_stft = librosa.stft(noise_sample)\n",
    "noise_power = np.abs(noise_stft).mean(axis=1)\n",
    "\n",
    "# Compute the power spectrum of the filtered audio\n",
    "audio_stft = librosa.stft(filtered_audio)\n",
    "audio_power = np.abs(audio_stft)\n",
    "\n",
    "# Subtract the noise power spectrum from the audio spectrum\n",
    "cleaned_power = np.maximum(audio_power - noise_power[:, None], 0)\n",
    "\n",
    "# Reconstruct the cleaned audio using the inverse STFT\n",
    "cleaned_audio = librosa.istft(cleaned_power * np.exp(1j * np.angle(audio_stft)))\n",
    "\n",
    "# Plot the cleaned audio\n",
    "plt.figure(figsize=(14, 5))\n",
    "librosa.display.waveshow(cleaned_audio, sr=sample_rate, alpha=0.5)\n",
    "plt.title('Cleaned Audio (Noise Reduced)')\n",
    "plt.tight_layout()\n",
    "plt.show()\n"
   ]
  },
  {
   "cell_type": "markdown",
   "metadata": {},
   "source": [
    "## Step 6: Save the Cleaned Audio\n",
    "\n",
    "Finally, we use `soundfile.write` to save the cleaned audio to a new WAV file.\n"
   ]
  },
  {
   "cell_type": "code",
   "execution_count": null,
   "metadata": {},
   "outputs": [],
   "source": [
    "# Step 6: Save Cleaned Audio\n",
    "sf.write('cleaned_output.wav', cleaned_audio, sample_rate)\n",
    "\n",
    "print(\"Cleaned audio saved as 'cleaned_output.wav'\") # Name it appropiately"
   ]
  }
 ],
 "metadata": {
  "kernelspec": {
   "display_name": "SeniorProject",
   "language": "python",
   "name": "python3"
  },
  "language_info": {
   "codemirror_mode": {
    "name": "ipython",
    "version": 3
   },
   "file_extension": ".py",
   "mimetype": "text/x-python",
   "name": "python",
   "nbconvert_exporter": "python",
   "pygments_lexer": "ipython3",
   "version": "3.12.4"
  }
 },
 "nbformat": 4,
 "nbformat_minor": 2
}
